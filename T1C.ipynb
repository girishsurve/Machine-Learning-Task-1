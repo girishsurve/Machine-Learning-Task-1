{
  "nbformat": 4,
  "nbformat_minor": 0,
  "metadata": {
    "colab": {
      "private_outputs": true,
      "provenance": [],
      "cell_execution_strategy": "setup"
    },
    "kernelspec": {
      "name": "python3",
      "display_name": "Python 3"
    },
    "language_info": {
      "name": "python"
    }
  },
  "cells": [
    {
      "cell_type": "code",
      "execution_count": null,
      "metadata": {
        "id": "eKDFDe04LHss"
      },
      "outputs": [],
      "source": [
        "import pandas as pd         # For data manipulation and analysis (loading CSV, creating DataFrames)\n",
        "import numpy as np          # For numerical operations, especially useful for array manipulation\n",
        "import matplotlib.pyplot as plt # For creating static, interactive, and animated visualizations\n",
        "import seaborn as sns       # For making attractive and informative statistical graphics (built on Matplotlib)\n",
        "\n",
        "from sklearn.model_selection import train_test_split # To split data into training and testing sets\n",
        "from sklearn.linear_model import LinearRegression    # The core linear regression model\n",
        "from sklearn.metrics import mean_absolute_error, mean_squared_error, r2_score # For evaluating model performance"
      ]
    },
    {
      "cell_type": "code",
      "source": [
        "# --- Data Loading ---\n",
        "# Replace 'train.csv' with the actual path to your dataset if it's not in the same directory.\n",
        "# For example: df = pd.read_csv('/path/to/your/train.csv')\n",
        "try:\n",
        "    df = pd.read_csv('train.csv')\n",
        "    print(\"Dataset 'train.csv' loaded successfully!\")\n",
        "except FileNotFoundError:\n",
        "    print(\"Error: 'train.csv' not found. Please ensure the file is in the correct directory.\")\n",
        "    print(\"If the file is in a different location, specify the full path, e.g., pd.read_csv('/path/to/your/train.csv')\")\n",
        "\n",
        "    df = None # Set df to None to avoid errors in subsequent steps if loading fails\n",
        "\n",
        "df.head()\n",
        "df.info()\n",
        "df.describe()"
      ],
      "metadata": {
        "id": "-R3xYVAHXRot",
        "collapsed": true
      },
      "execution_count": null,
      "outputs": []
    },
    {
      "cell_type": "code",
      "source": [
        "# Actual vs. Predicted Prices Plot\n",
        "plt.figure(figsize=(6, 4))\n",
        "sns.scatterplot(x=y_test, y=y_pred, alpha=0.7)\n",
        "plt.plot([y_test.min(), y_test.max()], [y_test.min(), y_test.max()], 'r--', lw=2, label='Ideal Fit') # Diagonal line\n",
        "plt.xlabel(\"Actual House Prices\")\n",
        "plt.ylabel(\"Predicted House Prices\")\n",
        "plt.title(\"Actual vs. Predicted House Prices (Test Set)\")\n",
        "plt.grid(True, linestyle='--', alpha=0.7)\n",
        "plt.legend()\n",
        "plt.show()\n",
        "\n",
        "# Residual Plot\n",
        "residuals = y_test - y_pred\n",
        "plt.figure(figsize=(5, 3))\n",
        "sns.scatterplot(x=y_pred, y=residuals, alpha=0.7)\n",
        "plt.axhline(y=0, color='r', linestyle='--', lw=2, label='Zero Residuals') # Horizontal line at zero\n",
        "plt.xlabel(\"Predicted House Prices\")\n",
        "plt.ylabel(\"Residuals (Actual - Predicted)\")\n",
        "plt.title(\"Residual Plot (Predicted vs. Residuals)\")\n",
        "plt.grid(True, linestyle='--', alpha=0.7)\n",
        "plt.legend()\n",
        "plt.show()\n",
        "\n",
        "# Distribution of Residuals\n",
        "plt.figure(figsize=(5, 3))\n",
        "sns.histplot(residuals, kde=True, bins=30)\n",
        "plt.title(\"Distribution of Residuals\")\n",
        "plt.xlabel(\"Residuals\")\n",
        "plt.ylabel(\"Frequency\")\n",
        "plt.grid(True, linestyle='--', alpha=0.7)\n",
        "plt.show()\n",
        "\n",
        "print(\"\\nLinear Regression analysis complete.\")"
      ],
      "metadata": {
        "id": "5uN6XT4bMq9B"
      },
      "execution_count": null,
      "outputs": []
    },
    {
      "cell_type": "code",
      "source": [
        "# Example for SalePrice distribution\n",
        "plt.figure(figsize=(4, 3))\n",
        "sns.histplot(df['SalePrice'], kde=True, bins=50)\n",
        "plt.title('Distribution of Sale Prices')\n",
        "plt.xlabel('Sale Price')\n",
        "plt.ylabel('Frequency')\n",
        "plt.show()"
      ],
      "metadata": {
        "id": "RY680lHDMq7F"
      },
      "execution_count": null,
      "outputs": []
    },
    {
      "cell_type": "code",
      "source": [
        "# Select relevant columns for correlation\n",
        "cols_for_corr = ['GrLivArea', 'BedroomAbvGr', 'FullBath', 'SalePrice']\n",
        "corr_matrix = df[cols_for_corr].corr()\n",
        "\n",
        "plt.figure(figsize=(4, 2))\n",
        "sns.heatmap(corr_matrix, annot=True, cmap='coolwarm', fmt=\".2f\")\n",
        "plt.title('Correlation Matrix of Selected Features and Sale Price')\n",
        "plt.show()"
      ],
      "metadata": {
        "id": "LRIZ-qWzMq5H"
      },
      "execution_count": null,
      "outputs": []
    },
    {
      "cell_type": "code",
      "source": [
        "# Assuming y_test and y_pred are already available from model evaluation step\n",
        "plt.figure(figsize=(5, 3))\n",
        "sns.scatterplot(x=y_test, y=y_pred, alpha=0.6) # alpha for seeing dense areas\n",
        "plt.plot([y_test.min(), y_test.max()], [y_test.min(), y_test.max()], 'r--', lw=2) # Ideal line\n",
        "plt.xlabel(\"Actual House Prices\")\n",
        "plt.ylabel(\"Predicted House Prices\")\n",
        "plt.title(\"Actual vs. Predicted House Prices\")\n",
        "plt.grid(True)\n",
        "plt.show()"
      ],
      "metadata": {
        "id": "NdgjdZFWMq3L"
      },
      "execution_count": null,
      "outputs": []
    },
    {
      "cell_type": "code",
      "source": [
        "# Assuming 'df' is your loaded DataFrame\n",
        "plt.figure(figsize=(7, 3))\n",
        "\n",
        "plt.subplot(1, 3, 1)\n",
        "sns.histplot(df['SalePrice'], kde=True)\n",
        "plt.title('Distribution of Sale Price')\n",
        "plt.xlabel('SalePrice')\n",
        "plt.ylabel('Frequency')\n",
        "\n",
        "plt.subplot(1, 3, 2)\n",
        "sns.histplot(df['GrLivArea'], kde=True)\n",
        "plt.title('Distribution of Living Area')\n",
        "plt.xlabel('GrLivArea')\n",
        "plt.ylabel('Frequency')\n",
        "\n",
        "plt.subplot(1, 3, 3)\n",
        "sns.histplot(df['BedroomAbvGr'], kde=True)\n",
        "plt.title('Distribution of Bedrooms')\n",
        "plt.xlabel('BedroomAbvGr')\n",
        "plt.ylabel('Frequency')\n",
        "\n",
        "plt.tight_layout()\n",
        "plt.show()\n",
        "\n",
        "# You can do the same for 'FullBath'\n",
        "sns.histplot(df['FullBath'], kde=True)\n",
        "plt.title('Distribution of Full Bathrooms')\n",
        "plt.xlabel('FullBath')\n",
        "plt.ylabel('Frequency')\n",
        "plt.show()"
      ],
      "metadata": {
        "id": "Fdtmh5g_Mq1M"
      },
      "execution_count": null,
      "outputs": []
    },
    {
      "cell_type": "code",
      "source": [
        "# Data Preparation: Select features (X) and target variable (y)\n",
        "# We'll start with the columns identified in the correlation matrix as examples\n",
        "features = ['GrLivArea', 'BedroomAbvGr', 'FullBath']\n",
        "X = df[features]\n",
        "y = df['SalePrice']\n",
        "\n",
        "# Split data into training and testing sets\n",
        "X_train, X_test, y_train, y_test = train_test_split(X, y, test_size=0.2, random_state=42)\n",
        "\n",
        "# Train a Linear Regression Model\n",
        "model = LinearRegression()\n",
        "model.fit(X_train, y_train)\n",
        "\n",
        "# Make predictions on the test set\n",
        "y_pred = model.predict(X_test)"
      ],
      "metadata": {
        "id": "oLvwz06bPFAb"
      },
      "execution_count": null,
      "outputs": []
    },
    {
      "cell_type": "code",
      "source": [
        "residuals = y_test - y_pred\n",
        "\n",
        "# Residuals vs. Predicted Values Plot\n",
        "plt.figure(figsize=(5, 3))\n",
        "sns.scatterplot(x=y_pred, y=residuals, alpha=0.6)\n",
        "plt.axhline(y=0, color='r', linestyle='--', linewidth=2) # Zero line\n",
        "plt.xlabel(\"Predicted Prices\")\n",
        "plt.ylabel(\"Residuals (Actual - Predicted)\")\n",
        "plt.title(\"Residuals vs. Predicted Values\")\n",
        "plt.grid(True)\n",
        "plt.show()\n",
        "\n",
        "# Histogram of Residuals\n",
        "plt.figure(figsize=(5, 3))\n",
        "sns.histplot(residuals, kde=True, bins=30)\n",
        "plt.title('Distribution of Residuals')\n",
        "plt.xlabel('Residuals')\n",
        "plt.ylabel('Frequency')\n",
        "plt.show()"
      ],
      "metadata": {
        "id": "OhtYI2y8PIzf"
      },
      "execution_count": null,
      "outputs": []
    },
    {
      "cell_type": "code",
      "source": [
        "# Assuming y_test and y_pred are already available from your model evaluation step\n",
        "plt.figure(figsize=(4, 3))\n",
        "sns.scatterplot(x=y_test, y=y_pred, alpha=0.6)\n",
        "plt.plot([y_test.min(), y_test.max()], [y_test.min(), y_test.max()], 'r--', lw=2) # Diagonal line for ideal predictions\n",
        "plt.xlabel(\"Actual House Prices\")\n",
        "plt.ylabel(\"Predicted House Prices\")\n",
        "plt.title(\"Actual vs. Predicted House Prices\")\n",
        "plt.grid(True, linestyle='--', alpha=0.7)\n",
        "plt.show()"
      ],
      "metadata": {
        "id": "jCgk-9glPKZu"
      },
      "execution_count": null,
      "outputs": []
    },
    {
      "cell_type": "code",
      "source": [
        "residuals = y_test - y_pred\n",
        "\n",
        "plt.figure(figsize=(4, 3))\n",
        "sns.scatterplot(x=y_pred, y=residuals, alpha=0.6)\n",
        "plt.axhline(y=0, color='r', linestyle='--', lw=2) # Horizontal line at zero for ideal residuals\n",
        "plt.xlabel(\"Predicted House Prices\")\n",
        "plt.ylabel(\"Residuals (Actual - Predicted)\")\n",
        "plt.title(\"Residual Plot\")\n",
        "plt.grid(True, linestyle='--', alpha=0.7)\n",
        "plt.show()"
      ],
      "metadata": {
        "id": "mvH-dxzlPQQR"
      },
      "execution_count": null,
      "outputs": []
    },
    {
      "cell_type": "code",
      "source": [
        "plt.figure(figsize=(4, 3))\n",
        "sns.histplot(residuals, kde=True)\n",
        "plt.title(\"Distribution of Residuals\")\n",
        "plt.xlabel(\"Residuals\")\n",
        "plt.ylabel(\"Frequency\")\n",
        "plt.grid(True, linestyle='--', alpha=0.7)\n",
        "plt.show()"
      ],
      "metadata": {
        "id": "1DSdR0ESPSD6"
      },
      "execution_count": null,
      "outputs": []
    },
    {
      "cell_type": "code",
      "source": [
        "# Now that y_test and y_pred are defined, we can generate the scatter plot.\n",
        "plt.figure(figsize=(6, 5))\n",
        "sns.scatterplot(x=y_test, y=y_pred, alpha=0.6) # alpha for seeing dense areas\n",
        "plt.plot([y_test.min(), y_test.max()], [y_test.min(), y_test.max()], 'r--', lw=2) # Ideal line\n",
        "plt.xlabel(\"Actual House Prices\")\n",
        "plt.ylabel(\"Predicted House Prices\")\n",
        "plt.title(\"Actual vs. Predicted House Prices\")\n",
        "plt.grid(True)\n",
        "plt.show()"
      ],
      "metadata": {
        "id": "NQL4h4KoPUvy"
      },
      "execution_count": null,
      "outputs": []
    },
    {
      "cell_type": "code",
      "source": [],
      "metadata": {
        "id": "xTZ3S8FRPWnS"
      },
      "execution_count": null,
      "outputs": []
    }
  ]
}